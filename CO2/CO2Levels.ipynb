{
 "cells": [
  {
   "cell_type": "code",
   "execution_count": 1,
   "metadata": {},
   "outputs": [],
   "source": [
    "# Dependencies\n",
    "import pandas as pd\n",
    "import csv\n",
    "import matplotlib.pyplot as plt\n",
    "import scipy.stats as stats "
   ]
  },
  {
   "cell_type": "code",
   "execution_count": 2,
   "metadata": {},
   "outputs": [
    {
     "data": {
      "text/html": [
       "<div>\n",
       "<style scoped>\n",
       "    .dataframe tbody tr th:only-of-type {\n",
       "        vertical-align: middle;\n",
       "    }\n",
       "\n",
       "    .dataframe tbody tr th {\n",
       "        vertical-align: top;\n",
       "    }\n",
       "\n",
       "    .dataframe thead th {\n",
       "        text-align: right;\n",
       "    }\n",
       "</style>\n",
       "<table border=\"1\" class=\"dataframe\">\n",
       "  <thead>\n",
       "    <tr style=\"text-align: right;\">\n",
       "      <th></th>\n",
       "      <th>Yr</th>\n",
       "      <th>Mn</th>\n",
       "      <th>Date</th>\n",
       "      <th>Date.1</th>\n",
       "      <th>CO2 [ppm]</th>\n",
       "      <th>seasonally adjusted [ppm]</th>\n",
       "      <th>fit [ppm]</th>\n",
       "      <th>seasonally adjusted fit [ppm]</th>\n",
       "      <th>CO2 filled [ppm]</th>\n",
       "      <th>seasonally adjusted filled[ppm]</th>\n",
       "    </tr>\n",
       "  </thead>\n",
       "  <tbody>\n",
       "    <tr>\n",
       "      <td>0</td>\n",
       "      <td>1969</td>\n",
       "      <td>1</td>\n",
       "      <td>25218</td>\n",
       "      <td>1969.0411</td>\n",
       "      <td>331.44</td>\n",
       "      <td>329.61</td>\n",
       "      <td>329.00</td>\n",
       "      <td>327.16</td>\n",
       "      <td>331.44</td>\n",
       "      <td>329.61</td>\n",
       "    </tr>\n",
       "    <tr>\n",
       "      <td>1</td>\n",
       "      <td>1969</td>\n",
       "      <td>2</td>\n",
       "      <td>25249</td>\n",
       "      <td>1969.1260</td>\n",
       "      <td>326.52</td>\n",
       "      <td>324.31</td>\n",
       "      <td>329.29</td>\n",
       "      <td>327.08</td>\n",
       "      <td>326.52</td>\n",
       "      <td>324.31</td>\n",
       "    </tr>\n",
       "    <tr>\n",
       "      <td>2</td>\n",
       "      <td>1969</td>\n",
       "      <td>3</td>\n",
       "      <td>25277</td>\n",
       "      <td>1969.2027</td>\n",
       "      <td>-99.99</td>\n",
       "      <td>-99.99</td>\n",
       "      <td>329.61</td>\n",
       "      <td>327.00</td>\n",
       "      <td>329.61</td>\n",
       "      <td>327.00</td>\n",
       "    </tr>\n",
       "    <tr>\n",
       "      <td>3</td>\n",
       "      <td>1969</td>\n",
       "      <td>4</td>\n",
       "      <td>25308</td>\n",
       "      <td>1969.2877</td>\n",
       "      <td>327.92</td>\n",
       "      <td>324.60</td>\n",
       "      <td>330.26</td>\n",
       "      <td>326.94</td>\n",
       "      <td>327.92</td>\n",
       "      <td>324.60</td>\n",
       "    </tr>\n",
       "    <tr>\n",
       "      <td>4</td>\n",
       "      <td>1969</td>\n",
       "      <td>5</td>\n",
       "      <td>25338</td>\n",
       "      <td>1969.3699</td>\n",
       "      <td>-99.99</td>\n",
       "      <td>-99.99</td>\n",
       "      <td>330.29</td>\n",
       "      <td>326.89</td>\n",
       "      <td>330.29</td>\n",
       "      <td>326.89</td>\n",
       "    </tr>\n",
       "  </tbody>\n",
       "</table>\n",
       "</div>"
      ],
      "text/plain": [
       "     Yr  Mn   Date     Date.1  CO2 [ppm]  seasonally adjusted [ppm]  \\\n",
       "0  1969   1  25218  1969.0411     331.44                     329.61   \n",
       "1  1969   2  25249  1969.1260     326.52                     324.31   \n",
       "2  1969   3  25277  1969.2027     -99.99                     -99.99   \n",
       "3  1969   4  25308  1969.2877     327.92                     324.60   \n",
       "4  1969   5  25338  1969.3699     -99.99                     -99.99   \n",
       "\n",
       "   fit [ppm]  seasonally adjusted fit [ppm]  CO2 filled [ppm]  \\\n",
       "0     329.00                         327.16            331.44   \n",
       "1     329.29                         327.08            326.52   \n",
       "2     329.61                         327.00            329.61   \n",
       "3     330.26                         326.94            327.92   \n",
       "4     330.29                         326.89            330.29   \n",
       "\n",
       "   seasonally adjusted filled[ppm]  \n",
       "0                           329.61  \n",
       "1                           324.31  \n",
       "2                           327.00  \n",
       "3                           324.60  \n",
       "4                           326.89  "
      ]
     },
     "execution_count": 2,
     "metadata": {},
     "output_type": "execute_result"
    }
   ],
   "source": [
    "# Import file / Preview dataframe\n",
    "samples = pd.read_csv('cleansamples.csv')\n",
    "samples.head(5)"
   ]
  },
  {
   "cell_type": "code",
   "execution_count": 3,
   "metadata": {},
   "outputs": [],
   "source": [
    "# Select Columns / Find means\n",
    "overallMean = samples['CO2 filled [ppm]'].mean()\n",
    "\n",
    "samples = samples[['Yr','CO2 filled [ppm]']]\n",
    "samples = samples.groupby('Yr').mean()\n",
    "co2 = samples['CO2 filled [ppm]']\n",
    "\n"
   ]
  },
  {
   "cell_type": "code",
   "execution_count": 4,
   "metadata": {},
   "outputs": [
    {
     "data": {
      "text/html": [
       "<div>\n",
       "<style scoped>\n",
       "    .dataframe tbody tr th:only-of-type {\n",
       "        vertical-align: middle;\n",
       "    }\n",
       "\n",
       "    .dataframe tbody tr th {\n",
       "        vertical-align: top;\n",
       "    }\n",
       "\n",
       "    .dataframe thead th {\n",
       "        text-align: right;\n",
       "    }\n",
       "</style>\n",
       "<table border=\"1\" class=\"dataframe\">\n",
       "  <thead>\n",
       "    <tr style=\"text-align: right;\">\n",
       "      <th></th>\n",
       "      <th>CO2 filled [ppm]</th>\n",
       "    </tr>\n",
       "    <tr>\n",
       "      <th>Yr</th>\n",
       "      <th></th>\n",
       "    </tr>\n",
       "  </thead>\n",
       "  <tbody>\n",
       "    <tr>\n",
       "      <td>1969</td>\n",
       "      <td>326.619167</td>\n",
       "    </tr>\n",
       "    <tr>\n",
       "      <td>1970</td>\n",
       "      <td>326.974167</td>\n",
       "    </tr>\n",
       "    <tr>\n",
       "      <td>1971</td>\n",
       "      <td>327.685833</td>\n",
       "    </tr>\n",
       "    <tr>\n",
       "      <td>1972</td>\n",
       "      <td>328.686667</td>\n",
       "    </tr>\n",
       "    <tr>\n",
       "      <td>1973</td>\n",
       "      <td>329.950000</td>\n",
       "    </tr>\n",
       "    <tr>\n",
       "      <td>1974</td>\n",
       "      <td>331.978333</td>\n",
       "    </tr>\n",
       "    <tr>\n",
       "      <td>1975</td>\n",
       "      <td>332.672500</td>\n",
       "    </tr>\n",
       "    <tr>\n",
       "      <td>1976</td>\n",
       "      <td>333.650000</td>\n",
       "    </tr>\n",
       "    <tr>\n",
       "      <td>1977</td>\n",
       "      <td>335.596667</td>\n",
       "    </tr>\n",
       "    <tr>\n",
       "      <td>1978</td>\n",
       "      <td>337.132500</td>\n",
       "    </tr>\n",
       "  </tbody>\n",
       "</table>\n",
       "</div>"
      ],
      "text/plain": [
       "      CO2 filled [ppm]\n",
       "Yr                    \n",
       "1969        326.619167\n",
       "1970        326.974167\n",
       "1971        327.685833\n",
       "1972        328.686667\n",
       "1973        329.950000\n",
       "1974        331.978333\n",
       "1975        332.672500\n",
       "1976        333.650000\n",
       "1977        335.596667\n",
       "1978        337.132500"
      ]
     },
     "execution_count": 4,
     "metadata": {},
     "output_type": "execute_result"
    }
   ],
   "source": [
    "samples.head(10)"
   ]
  },
  {
   "cell_type": "code",
   "execution_count": 5,
   "metadata": {},
   "outputs": [
    {
     "data": {
      "image/png": "[encoded data removed]",
      "text/plain": [
       "<Figure size 432x288 with 1 Axes>"
      ]
     },
     "metadata": {
      "needs_background": "light"
     },
     "output_type": "display_data"
    }
   ],
   "source": [
    "# Plot and save figure\n",
    "plt.title('CO2 Levels Over Time')\n",
    "plt.xlabel('Years')\n",
    "plt.ylabel('CO2 Filled [PPM]')\n",
    "plt.plot(samples,color='r')\n",
    "plt.savefig('CO2Time.png')"
   ]
  },
  {
   "cell_type": "code",
   "execution_count": 6,
   "metadata": {},
   "outputs": [
    {
     "data": {
      "text/plain": [
       "Ttest_1sampResult(statistic=6.406431790437904e-14, pvalue=0.9999999999999492)"
      ]
     },
     "execution_count": 6,
     "metadata": {},
     "output_type": "execute_result"
    }
   ],
   "source": [
    "# Run T test\n",
    "stats.ttest_1samp(co2,overallMean)"
   ]
  },
  {
   "cell_type": "code",
   "execution_count": 80,
   "metadata": {},
   "outputs": [
    {
     "data": {
      "text/plain": [
       "[<matplotlib.lines.Line2D at 0x1a263fe150>]"
      ]
     },
     "execution_count": 80,
     "metadata": {},
     "output_type": "execute_result"
    },
    {
     "data": {
      "image/png": "[encoded data removed]",
      "text/plain": [
       "<Figure size 432x288 with 1 Axes>"
      ]
     },
     "metadata": {
      "needs_background": "light"
     },
     "output_type": "display_data"
    }
   ],
   "source": [
    "# Import sea temps\n",
    "water = pd.read_csv('water_surface_temp.csv')\n",
    "surfTemps = water[['YEAR','MONTH','DAY','SURF_TEMP_C']]\n",
    "floorTemps = water[['YEAR','MONTH','DAY','BOT_TEMP_C']]\n",
    "\n",
    "surfTemps = surfTemps.groupby('YEAR').mean()\n",
    "surfTemps = surfTemps[1969:2019][['SURF_TEMP_C']]\n",
    "\n",
    "samples['Surf_Temp'] = surfTemps['SURF_TEMP_C']\n",
    "samples\n",
    "\n",
    "plt.plot(surfTemps)"
   ]
  },
  {
   "cell_type": "code",
   "execution_count": null,
   "metadata": {},
   "outputs": [],
   "source": []
  }
 ],
 "metadata": {
  "kernelspec": {
   "display_name": "Python 3",
   "language": "python",
   "name": "python3"
  },
  "language_info": {
   "codemirror_mode": {
    "name": "ipython",
    "version": 3
   },
   "file_extension": ".py",
   "mimetype": "text/x-python",
   "name": "python",
   "nbconvert_exporter": "python",
   "pygments_lexer": "ipython3",
   "version": "3.7.4"
  }
 },
 "nbformat": 4,
 "nbformat_minor": 2
}
