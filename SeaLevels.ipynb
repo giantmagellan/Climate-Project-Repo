{
 "cells": [
  {
   "cell_type": "code",
   "execution_count": 44,
   "metadata": {},
   "outputs": [],
   "source": [
    "import pandas as pd \n",
    "import matplotlib.pyplot as plt\n",
    "import numpy as np\n",
    "import scipy.stats as stats\n",
    "import os\n",
    "import csv"
   ]
  },
  {
   "cell_type": "code",
   "execution_count": 45,
   "metadata": {},
   "outputs": [],
   "source": [
    "#The path to CSV file\n",
    "file = \"/Users/monicachao/Desktop/DatascienceBootcamp/Project1/Climate-Project-Repo/Monica/lajollasealeveltrends.csv\"\n",
    "# Read data into pandas\n",
    "df = pd.read_csv(file)"
   ]
  },
  {
   "cell_type": "code",
   "execution_count": 46,
   "metadata": {},
   "outputs": [
    {
     "data": {
      "text/plain": [
       "Index(['Year', ' Month', ' Monthly_MSL', ' Unverified', ' Linear_Trend',\n",
       "       ' High_Conf.', ' Low_Conf.'],\n",
       "      dtype='object')"
      ]
     },
     "execution_count": 46,
     "metadata": {},
     "output_type": "execute_result"
    }
   ],
   "source": [
    "#grabbing column names\n",
    "df.columns"
   ]
  },
  {
   "cell_type": "code",
   "execution_count": 47,
   "metadata": {},
   "outputs": [
    {
     "data": {
      "text/html": [
       "<div>\n",
       "<style scoped>\n",
       "    .dataframe tbody tr th:only-of-type {\n",
       "        vertical-align: middle;\n",
       "    }\n",
       "\n",
       "    .dataframe tbody tr th {\n",
       "        vertical-align: top;\n",
       "    }\n",
       "\n",
       "    .dataframe thead th {\n",
       "        text-align: right;\n",
       "    }\n",
       "</style>\n",
       "<table border=\"1\" class=\"dataframe\">\n",
       "  <thead>\n",
       "    <tr style=\"text-align: right;\">\n",
       "      <th></th>\n",
       "      <th>Year</th>\n",
       "      <th>MSL</th>\n",
       "      <th>MSL1</th>\n",
       "      <th>Unverified</th>\n",
       "      <th>Linear Trend</th>\n",
       "      <th>High Conf</th>\n",
       "      <th>Low_Conf.</th>\n",
       "    </tr>\n",
       "  </thead>\n",
       "  <tbody>\n",
       "    <tr>\n",
       "      <td>1920</td>\n",
       "      <td>1</td>\n",
       "      <td>NaN</td>\n",
       "      <td>NaN</td>\n",
       "      <td>-0.165</td>\n",
       "      <td>-0.150</td>\n",
       "      <td>-0.180</td>\n",
       "      <td>NaN</td>\n",
       "    </tr>\n",
       "    <tr>\n",
       "      <td>1920</td>\n",
       "      <td>2</td>\n",
       "      <td>NaN</td>\n",
       "      <td>NaN</td>\n",
       "      <td>-0.165</td>\n",
       "      <td>-0.150</td>\n",
       "      <td>-0.180</td>\n",
       "      <td>NaN</td>\n",
       "    </tr>\n",
       "    <tr>\n",
       "      <td>1920</td>\n",
       "      <td>3</td>\n",
       "      <td>NaN</td>\n",
       "      <td>NaN</td>\n",
       "      <td>-0.165</td>\n",
       "      <td>-0.149</td>\n",
       "      <td>-0.180</td>\n",
       "      <td>NaN</td>\n",
       "    </tr>\n",
       "    <tr>\n",
       "      <td>1920</td>\n",
       "      <td>4</td>\n",
       "      <td>NaN</td>\n",
       "      <td>NaN</td>\n",
       "      <td>-0.164</td>\n",
       "      <td>-0.149</td>\n",
       "      <td>-0.179</td>\n",
       "      <td>NaN</td>\n",
       "    </tr>\n",
       "    <tr>\n",
       "      <td>1920</td>\n",
       "      <td>5</td>\n",
       "      <td>NaN</td>\n",
       "      <td>NaN</td>\n",
       "      <td>-0.164</td>\n",
       "      <td>-0.149</td>\n",
       "      <td>-0.179</td>\n",
       "      <td>NaN</td>\n",
       "    </tr>\n",
       "    <tr>\n",
       "      <td>...</td>\n",
       "      <td>...</td>\n",
       "      <td>...</td>\n",
       "      <td>...</td>\n",
       "      <td>...</td>\n",
       "      <td>...</td>\n",
       "      <td>...</td>\n",
       "      <td>...</td>\n",
       "    </tr>\n",
       "    <tr>\n",
       "      <td>2025</td>\n",
       "      <td>8</td>\n",
       "      <td>NaN</td>\n",
       "      <td>NaN</td>\n",
       "      <td>0.064</td>\n",
       "      <td>0.080</td>\n",
       "      <td>0.049</td>\n",
       "      <td>NaN</td>\n",
       "    </tr>\n",
       "    <tr>\n",
       "      <td>2025</td>\n",
       "      <td>9</td>\n",
       "      <td>NaN</td>\n",
       "      <td>NaN</td>\n",
       "      <td>0.065</td>\n",
       "      <td>0.081</td>\n",
       "      <td>0.049</td>\n",
       "      <td>NaN</td>\n",
       "    </tr>\n",
       "    <tr>\n",
       "      <td>2025</td>\n",
       "      <td>10</td>\n",
       "      <td>NaN</td>\n",
       "      <td>NaN</td>\n",
       "      <td>0.065</td>\n",
       "      <td>0.081</td>\n",
       "      <td>0.049</td>\n",
       "      <td>NaN</td>\n",
       "    </tr>\n",
       "    <tr>\n",
       "      <td>2025</td>\n",
       "      <td>11</td>\n",
       "      <td>NaN</td>\n",
       "      <td>NaN</td>\n",
       "      <td>0.065</td>\n",
       "      <td>0.081</td>\n",
       "      <td>0.049</td>\n",
       "      <td>NaN</td>\n",
       "    </tr>\n",
       "    <tr>\n",
       "      <td>2025</td>\n",
       "      <td>12</td>\n",
       "      <td>NaN</td>\n",
       "      <td>NaN</td>\n",
       "      <td>0.065</td>\n",
       "      <td>0.081</td>\n",
       "      <td>0.049</td>\n",
       "      <td>NaN</td>\n",
       "    </tr>\n",
       "  </tbody>\n",
       "</table>\n",
       "<p>1272 rows × 7 columns</p>\n",
       "</div>"
      ],
      "text/plain": [
       "      Year  MSL MSL1  Unverified  Linear Trend  High Conf   Low_Conf.\n",
       "1920     1  NaN  NaN      -0.165        -0.150     -0.180         NaN\n",
       "1920     2  NaN  NaN      -0.165        -0.150     -0.180         NaN\n",
       "1920     3  NaN  NaN      -0.165        -0.149     -0.180         NaN\n",
       "1920     4  NaN  NaN      -0.164        -0.149     -0.179         NaN\n",
       "1920     5  NaN  NaN      -0.164        -0.149     -0.179         NaN\n",
       "...    ...  ...  ...         ...           ...        ...         ...\n",
       "2025     8  NaN  NaN       0.064         0.080      0.049         NaN\n",
       "2025     9  NaN  NaN       0.065         0.081      0.049         NaN\n",
       "2025    10  NaN  NaN       0.065         0.081      0.049         NaN\n",
       "2025    11  NaN  NaN       0.065         0.081      0.049         NaN\n",
       "2025    12  NaN  NaN       0.065         0.081      0.049         NaN\n",
       "\n",
       "[1272 rows x 7 columns]"
      ]
     },
     "execution_count": 47,
     "metadata": {},
     "output_type": "execute_result"
    }
   ],
   "source": [
    "#because this csv file has a space before all the header names\n",
    "renameddf = df.rename(columns={\" Monthly_MSL\":\"MSL1\", \" Month\": \"MSL\", \" Unverified\":\"Unverified\", \" Linear_Trend\":\"Linear Trend\",\n",
    "                       \" High_Conf.\":\"High Conf\", \" Low_Conf\":\"Low Conf\"})\n",
    "renameddf"
   ]
  },
  {
   "cell_type": "code",
   "execution_count": 48,
   "metadata": {
    "scrolled": true
   },
   "outputs": [
    {
     "data": {
      "text/html": [
       "<div>\n",
       "<style scoped>\n",
       "    .dataframe tbody tr th:only-of-type {\n",
       "        vertical-align: middle;\n",
       "    }\n",
       "\n",
       "    .dataframe tbody tr th {\n",
       "        vertical-align: top;\n",
       "    }\n",
       "\n",
       "    .dataframe thead th {\n",
       "        text-align: right;\n",
       "    }\n",
       "</style>\n",
       "<table border=\"1\" class=\"dataframe\">\n",
       "  <thead>\n",
       "    <tr style=\"text-align: right;\">\n",
       "      <th></th>\n",
       "      <th>Month</th>\n",
       "      <th>MSL</th>\n",
       "      <th>MSL1</th>\n",
       "      <th>Unverified</th>\n",
       "      <th>Linear Trend</th>\n",
       "      <th>High Conf</th>\n",
       "      <th>Low_Conf.</th>\n",
       "    </tr>\n",
       "  </thead>\n",
       "  <tbody>\n",
       "    <tr>\n",
       "      <td>1920</td>\n",
       "      <td>1</td>\n",
       "      <td>NaN</td>\n",
       "      <td>NaN</td>\n",
       "      <td>-0.165</td>\n",
       "      <td>-0.150</td>\n",
       "      <td>-0.180</td>\n",
       "      <td>NaN</td>\n",
       "    </tr>\n",
       "    <tr>\n",
       "      <td>1920</td>\n",
       "      <td>2</td>\n",
       "      <td>NaN</td>\n",
       "      <td>NaN</td>\n",
       "      <td>-0.165</td>\n",
       "      <td>-0.150</td>\n",
       "      <td>-0.180</td>\n",
       "      <td>NaN</td>\n",
       "    </tr>\n",
       "    <tr>\n",
       "      <td>1920</td>\n",
       "      <td>3</td>\n",
       "      <td>NaN</td>\n",
       "      <td>NaN</td>\n",
       "      <td>-0.165</td>\n",
       "      <td>-0.149</td>\n",
       "      <td>-0.180</td>\n",
       "      <td>NaN</td>\n",
       "    </tr>\n",
       "    <tr>\n",
       "      <td>1920</td>\n",
       "      <td>4</td>\n",
       "      <td>NaN</td>\n",
       "      <td>NaN</td>\n",
       "      <td>-0.164</td>\n",
       "      <td>-0.149</td>\n",
       "      <td>-0.179</td>\n",
       "      <td>NaN</td>\n",
       "    </tr>\n",
       "    <tr>\n",
       "      <td>1920</td>\n",
       "      <td>5</td>\n",
       "      <td>NaN</td>\n",
       "      <td>NaN</td>\n",
       "      <td>-0.164</td>\n",
       "      <td>-0.149</td>\n",
       "      <td>-0.179</td>\n",
       "      <td>NaN</td>\n",
       "    </tr>\n",
       "    <tr>\n",
       "      <td>...</td>\n",
       "      <td>...</td>\n",
       "      <td>...</td>\n",
       "      <td>...</td>\n",
       "      <td>...</td>\n",
       "      <td>...</td>\n",
       "      <td>...</td>\n",
       "      <td>...</td>\n",
       "    </tr>\n",
       "    <tr>\n",
       "      <td>2025</td>\n",
       "      <td>8</td>\n",
       "      <td>NaN</td>\n",
       "      <td>NaN</td>\n",
       "      <td>0.064</td>\n",
       "      <td>0.080</td>\n",
       "      <td>0.049</td>\n",
       "      <td>NaN</td>\n",
       "    </tr>\n",
       "    <tr>\n",
       "      <td>2025</td>\n",
       "      <td>9</td>\n",
       "      <td>NaN</td>\n",
       "      <td>NaN</td>\n",
       "      <td>0.065</td>\n",
       "      <td>0.081</td>\n",
       "      <td>0.049</td>\n",
       "      <td>NaN</td>\n",
       "    </tr>\n",
       "    <tr>\n",
       "      <td>2025</td>\n",
       "      <td>10</td>\n",
       "      <td>NaN</td>\n",
       "      <td>NaN</td>\n",
       "      <td>0.065</td>\n",
       "      <td>0.081</td>\n",
       "      <td>0.049</td>\n",
       "      <td>NaN</td>\n",
       "    </tr>\n",
       "    <tr>\n",
       "      <td>2025</td>\n",
       "      <td>11</td>\n",
       "      <td>NaN</td>\n",
       "      <td>NaN</td>\n",
       "      <td>0.065</td>\n",
       "      <td>0.081</td>\n",
       "      <td>0.049</td>\n",
       "      <td>NaN</td>\n",
       "    </tr>\n",
       "    <tr>\n",
       "      <td>2025</td>\n",
       "      <td>12</td>\n",
       "      <td>NaN</td>\n",
       "      <td>NaN</td>\n",
       "      <td>0.065</td>\n",
       "      <td>0.081</td>\n",
       "      <td>0.049</td>\n",
       "      <td>NaN</td>\n",
       "    </tr>\n",
       "  </tbody>\n",
       "</table>\n",
       "<p>1272 rows × 7 columns</p>\n",
       "</div>"
      ],
      "text/plain": [
       "      Month  MSL MSL1  Unverified  Linear Trend  High Conf   Low_Conf.\n",
       "1920      1  NaN  NaN      -0.165        -0.150     -0.180         NaN\n",
       "1920      2  NaN  NaN      -0.165        -0.150     -0.180         NaN\n",
       "1920      3  NaN  NaN      -0.165        -0.149     -0.180         NaN\n",
       "1920      4  NaN  NaN      -0.164        -0.149     -0.179         NaN\n",
       "1920      5  NaN  NaN      -0.164        -0.149     -0.179         NaN\n",
       "...     ...  ...  ...         ...           ...        ...         ...\n",
       "2025      8  NaN  NaN       0.064         0.080      0.049         NaN\n",
       "2025      9  NaN  NaN       0.065         0.081      0.049         NaN\n",
       "2025     10  NaN  NaN       0.065         0.081      0.049         NaN\n",
       "2025     11  NaN  NaN       0.065         0.081      0.049         NaN\n",
       "2025     12  NaN  NaN       0.065         0.081      0.049         NaN\n",
       "\n",
       "[1272 rows x 7 columns]"
      ]
     },
     "execution_count": 48,
     "metadata": {},
     "output_type": "execute_result"
    }
   ],
   "source": [
    "#grabbing only year and mean sea level rise/fall for graphing\n",
    "\n",
    "fixeddf = renameddf.rename(columns={\"Year\":\"Month\"})\n",
    "fixeddf"
   ]
  },
  {
   "cell_type": "code",
   "execution_count": 49,
   "metadata": {},
   "outputs": [
    {
     "data": {
      "text/html": [
       "<div>\n",
       "<style scoped>\n",
       "    .dataframe tbody tr th:only-of-type {\n",
       "        vertical-align: middle;\n",
       "    }\n",
       "\n",
       "    .dataframe tbody tr th {\n",
       "        vertical-align: top;\n",
       "    }\n",
       "\n",
       "    .dataframe thead th {\n",
       "        text-align: right;\n",
       "    }\n",
       "</style>\n",
       "<table border=\"1\" class=\"dataframe\">\n",
       "  <thead>\n",
       "    <tr style=\"text-align: right;\">\n",
       "      <th></th>\n",
       "      <th>MSL</th>\n",
       "    </tr>\n",
       "  </thead>\n",
       "  <tbody>\n",
       "    <tr>\n",
       "      <td>1920</td>\n",
       "      <td>NaN</td>\n",
       "    </tr>\n",
       "    <tr>\n",
       "      <td>1920</td>\n",
       "      <td>NaN</td>\n",
       "    </tr>\n",
       "    <tr>\n",
       "      <td>1920</td>\n",
       "      <td>NaN</td>\n",
       "    </tr>\n",
       "    <tr>\n",
       "      <td>1920</td>\n",
       "      <td>NaN</td>\n",
       "    </tr>\n",
       "    <tr>\n",
       "      <td>1920</td>\n",
       "      <td>NaN</td>\n",
       "    </tr>\n",
       "    <tr>\n",
       "      <td>...</td>\n",
       "      <td>...</td>\n",
       "    </tr>\n",
       "    <tr>\n",
       "      <td>2025</td>\n",
       "      <td>NaN</td>\n",
       "    </tr>\n",
       "    <tr>\n",
       "      <td>2025</td>\n",
       "      <td>NaN</td>\n",
       "    </tr>\n",
       "    <tr>\n",
       "      <td>2025</td>\n",
       "      <td>NaN</td>\n",
       "    </tr>\n",
       "    <tr>\n",
       "      <td>2025</td>\n",
       "      <td>NaN</td>\n",
       "    </tr>\n",
       "    <tr>\n",
       "      <td>2025</td>\n",
       "      <td>NaN</td>\n",
       "    </tr>\n",
       "  </tbody>\n",
       "</table>\n",
       "<p>1272 rows × 1 columns</p>\n",
       "</div>"
      ],
      "text/plain": [
       "      MSL\n",
       "1920  NaN\n",
       "1920  NaN\n",
       "1920  NaN\n",
       "1920  NaN\n",
       "1920  NaN\n",
       "...   ...\n",
       "2025  NaN\n",
       "2025  NaN\n",
       "2025  NaN\n",
       "2025  NaN\n",
       "2025  NaN\n",
       "\n",
       "[1272 rows x 1 columns]"
      ]
     },
     "execution_count": 49,
     "metadata": {},
     "output_type": "execute_result"
    }
   ],
   "source": [
    "newdf = fixeddf[[\"MSL\"]]\n",
    "newdf"
   ]
  },
  {
   "cell_type": "code",
   "execution_count": 50,
   "metadata": {},
   "outputs": [
    {
     "data": {
      "text/html": [
       "<div>\n",
       "<style scoped>\n",
       "    .dataframe tbody tr th:only-of-type {\n",
       "        vertical-align: middle;\n",
       "    }\n",
       "\n",
       "    .dataframe tbody tr th {\n",
       "        vertical-align: top;\n",
       "    }\n",
       "\n",
       "    .dataframe thead th {\n",
       "        text-align: right;\n",
       "    }\n",
       "</style>\n",
       "<table border=\"1\" class=\"dataframe\">\n",
       "  <thead>\n",
       "    <tr style=\"text-align: right;\">\n",
       "      <th></th>\n",
       "      <th>index</th>\n",
       "      <th>MSL</th>\n",
       "    </tr>\n",
       "  </thead>\n",
       "  <tbody>\n",
       "    <tr>\n",
       "      <td>0</td>\n",
       "      <td>1924</td>\n",
       "      <td>-0.225</td>\n",
       "    </tr>\n",
       "    <tr>\n",
       "      <td>1</td>\n",
       "      <td>1924</td>\n",
       "      <td>-0.195</td>\n",
       "    </tr>\n",
       "    <tr>\n",
       "      <td>2</td>\n",
       "      <td>1925</td>\n",
       "      <td>-0.198</td>\n",
       "    </tr>\n",
       "    <tr>\n",
       "      <td>3</td>\n",
       "      <td>1925</td>\n",
       "      <td>-0.207</td>\n",
       "    </tr>\n",
       "    <tr>\n",
       "      <td>4</td>\n",
       "      <td>1925</td>\n",
       "      <td>-0.150</td>\n",
       "    </tr>\n",
       "    <tr>\n",
       "      <td>...</td>\n",
       "      <td>...</td>\n",
       "      <td>...</td>\n",
       "    </tr>\n",
       "    <tr>\n",
       "      <td>1114</td>\n",
       "      <td>2019</td>\n",
       "      <td>0.031</td>\n",
       "    </tr>\n",
       "    <tr>\n",
       "      <td>1115</td>\n",
       "      <td>2019</td>\n",
       "      <td>0.006</td>\n",
       "    </tr>\n",
       "    <tr>\n",
       "      <td>1116</td>\n",
       "      <td>2019</td>\n",
       "      <td>-0.008</td>\n",
       "    </tr>\n",
       "    <tr>\n",
       "      <td>1117</td>\n",
       "      <td>2019</td>\n",
       "      <td>0.036</td>\n",
       "    </tr>\n",
       "    <tr>\n",
       "      <td>1118</td>\n",
       "      <td>2019</td>\n",
       "      <td>0.020</td>\n",
       "    </tr>\n",
       "  </tbody>\n",
       "</table>\n",
       "<p>1119 rows × 2 columns</p>\n",
       "</div>"
      ],
      "text/plain": [
       "      index    MSL\n",
       "0      1924 -0.225\n",
       "1      1924 -0.195\n",
       "2      1925 -0.198\n",
       "3      1925 -0.207\n",
       "4      1925 -0.150\n",
       "...     ...    ...\n",
       "1114   2019  0.031\n",
       "1115   2019  0.006\n",
       "1116   2019 -0.008\n",
       "1117   2019  0.036\n",
       "1118   2019  0.020\n",
       "\n",
       "[1119 rows x 2 columns]"
      ]
     },
     "execution_count": 50,
     "metadata": {},
     "output_type": "execute_result"
    }
   ],
   "source": [
    "#drops any row with N/A in it\n",
    "droppeddf=newdf.dropna(how='any')\n",
    "droppeddf\n",
    "\n",
    "#resetting index\n",
    "new = droppeddf.reset_index()\n",
    "new"
   ]
  },
  {
   "cell_type": "code",
   "execution_count": 51,
   "metadata": {},
   "outputs": [
    {
     "data": {
      "text/html": [
       "<div>\n",
       "<style scoped>\n",
       "    .dataframe tbody tr th:only-of-type {\n",
       "        vertical-align: middle;\n",
       "    }\n",
       "\n",
       "    .dataframe tbody tr th {\n",
       "        vertical-align: top;\n",
       "    }\n",
       "\n",
       "    .dataframe thead th {\n",
       "        text-align: right;\n",
       "    }\n",
       "</style>\n",
       "<table border=\"1\" class=\"dataframe\">\n",
       "  <thead>\n",
       "    <tr style=\"text-align: right;\">\n",
       "      <th></th>\n",
       "      <th>Year</th>\n",
       "      <th>MSL</th>\n",
       "    </tr>\n",
       "  </thead>\n",
       "  <tbody>\n",
       "    <tr>\n",
       "      <td>0</td>\n",
       "      <td>1924</td>\n",
       "      <td>-0.225</td>\n",
       "    </tr>\n",
       "    <tr>\n",
       "      <td>1</td>\n",
       "      <td>1924</td>\n",
       "      <td>-0.195</td>\n",
       "    </tr>\n",
       "    <tr>\n",
       "      <td>2</td>\n",
       "      <td>1925</td>\n",
       "      <td>-0.198</td>\n",
       "    </tr>\n",
       "    <tr>\n",
       "      <td>3</td>\n",
       "      <td>1925</td>\n",
       "      <td>-0.207</td>\n",
       "    </tr>\n",
       "    <tr>\n",
       "      <td>4</td>\n",
       "      <td>1925</td>\n",
       "      <td>-0.150</td>\n",
       "    </tr>\n",
       "    <tr>\n",
       "      <td>...</td>\n",
       "      <td>...</td>\n",
       "      <td>...</td>\n",
       "    </tr>\n",
       "    <tr>\n",
       "      <td>1114</td>\n",
       "      <td>2019</td>\n",
       "      <td>0.031</td>\n",
       "    </tr>\n",
       "    <tr>\n",
       "      <td>1115</td>\n",
       "      <td>2019</td>\n",
       "      <td>0.006</td>\n",
       "    </tr>\n",
       "    <tr>\n",
       "      <td>1116</td>\n",
       "      <td>2019</td>\n",
       "      <td>-0.008</td>\n",
       "    </tr>\n",
       "    <tr>\n",
       "      <td>1117</td>\n",
       "      <td>2019</td>\n",
       "      <td>0.036</td>\n",
       "    </tr>\n",
       "    <tr>\n",
       "      <td>1118</td>\n",
       "      <td>2019</td>\n",
       "      <td>0.020</td>\n",
       "    </tr>\n",
       "  </tbody>\n",
       "</table>\n",
       "<p>1119 rows × 2 columns</p>\n",
       "</div>"
      ],
      "text/plain": [
       "      Year    MSL\n",
       "0     1924 -0.225\n",
       "1     1924 -0.195\n",
       "2     1925 -0.198\n",
       "3     1925 -0.207\n",
       "4     1925 -0.150\n",
       "...    ...    ...\n",
       "1114  2019  0.031\n",
       "1115  2019  0.006\n",
       "1116  2019 -0.008\n",
       "1117  2019  0.036\n",
       "1118  2019  0.020\n",
       "\n",
       "[1119 rows x 2 columns]"
      ]
     },
     "execution_count": 51,
     "metadata": {},
     "output_type": "execute_result"
    }
   ],
   "source": [
    "#renaming the original index to years\n",
    "new = new.rename(columns={\"index\":\"Year\"})\n",
    "new"
   ]
  },
  {
   "cell_type": "code",
   "execution_count": 52,
   "metadata": {},
   "outputs": [
    {
     "data": {
      "text/html": [
       "<div>\n",
       "<style scoped>\n",
       "    .dataframe tbody tr th:only-of-type {\n",
       "        vertical-align: middle;\n",
       "    }\n",
       "\n",
       "    .dataframe tbody tr th {\n",
       "        vertical-align: top;\n",
       "    }\n",
       "\n",
       "    .dataframe thead th {\n",
       "        text-align: right;\n",
       "    }\n",
       "</style>\n",
       "<table border=\"1\" class=\"dataframe\">\n",
       "  <thead>\n",
       "    <tr style=\"text-align: right;\">\n",
       "      <th></th>\n",
       "      <th>Year</th>\n",
       "      <th>MSL</th>\n",
       "    </tr>\n",
       "  </thead>\n",
       "  <tbody>\n",
       "    <tr>\n",
       "      <td>0</td>\n",
       "      <td>1924</td>\n",
       "      <td>-0.210000</td>\n",
       "    </tr>\n",
       "    <tr>\n",
       "      <td>1</td>\n",
       "      <td>1925</td>\n",
       "      <td>-0.148000</td>\n",
       "    </tr>\n",
       "    <tr>\n",
       "      <td>2</td>\n",
       "      <td>1926</td>\n",
       "      <td>-0.122000</td>\n",
       "    </tr>\n",
       "    <tr>\n",
       "      <td>3</td>\n",
       "      <td>1927</td>\n",
       "      <td>-0.148833</td>\n",
       "    </tr>\n",
       "    <tr>\n",
       "      <td>4</td>\n",
       "      <td>1928</td>\n",
       "      <td>-0.129000</td>\n",
       "    </tr>\n",
       "    <tr>\n",
       "      <td>...</td>\n",
       "      <td>...</td>\n",
       "      <td>...</td>\n",
       "    </tr>\n",
       "    <tr>\n",
       "      <td>90</td>\n",
       "      <td>2015</td>\n",
       "      <td>0.123167</td>\n",
       "    </tr>\n",
       "    <tr>\n",
       "      <td>91</td>\n",
       "      <td>2016</td>\n",
       "      <td>0.036333</td>\n",
       "    </tr>\n",
       "    <tr>\n",
       "      <td>92</td>\n",
       "      <td>2017</td>\n",
       "      <td>0.028167</td>\n",
       "    </tr>\n",
       "    <tr>\n",
       "      <td>93</td>\n",
       "      <td>2018</td>\n",
       "      <td>0.038000</td>\n",
       "    </tr>\n",
       "    <tr>\n",
       "      <td>94</td>\n",
       "      <td>2019</td>\n",
       "      <td>0.026500</td>\n",
       "    </tr>\n",
       "  </tbody>\n",
       "</table>\n",
       "<p>95 rows × 2 columns</p>\n",
       "</div>"
      ],
      "text/plain": [
       "    Year       MSL\n",
       "0   1924 -0.210000\n",
       "1   1925 -0.148000\n",
       "2   1926 -0.122000\n",
       "3   1927 -0.148833\n",
       "4   1928 -0.129000\n",
       "..   ...       ...\n",
       "90  2015  0.123167\n",
       "91  2016  0.036333\n",
       "92  2017  0.028167\n",
       "93  2018  0.038000\n",
       "94  2019  0.026500\n",
       "\n",
       "[95 rows x 2 columns]"
      ]
     },
     "execution_count": 52,
     "metadata": {},
     "output_type": "execute_result"
    }
   ],
   "source": [
    "#Grabbing means from each year of the sea level rise/fall\n",
    "finalcsv = new.groupby(\"Year\").mean().reset_index()\n",
    "#saving the cleaned data as a csv\n",
    "finalcsv.to_csv(\"cleaneddata.csv\", encoding=\"utf-8\", index=True)\n",
    "finalcsv"
   ]
  },
  {
   "cell_type": "code",
   "execution_count": 53,
   "metadata": {},
   "outputs": [
    {
     "name": "stdout",
     "output_type": "stream",
     "text": [
      "R-squared: 0.770066\n"
     ]
    }
   ],
   "source": [
    "#Graphing, setting x-axis, setting up linear regression, etc...\n",
    "x_axis = finalcsv[\"Year\"]\n",
    "MSL = finalcsv[\"MSL\"]\n",
    "slope, intercept, r_value, p_value, std_err = stats.linregress(x_axis, MSL)\n",
    "print(\"R-squared: %f\" % r_value**2)"
   ]
  },
  {
   "cell_type": "code",
   "execution_count": 54,
   "metadata": {
    "scrolled": true
   },
   "outputs": [
    {
     "data": {
      "image/png": "[encoded data removed]",
      "text/plain": [
       "<Figure size 432x288 with 1 Axes>"
      ]
     },
     "metadata": {
      "needs_background": "light"
     },
     "output_type": "display_data"
    }
   ],
   "source": [
    "#1924 to 2019\n",
    "\n",
    "#plotting a line graph with a width of 1\n",
    "plt.plot(x_axis, MSL, linewidth = 1, color = \"deepskyblue\")\n",
    "plt.plot(x_axis, intercept + slope*x_axis, '--', color = 'darkcyan', label='Linear Trend')\n",
    "\n",
    "#labeling axis, title, adding grid\n",
    "plt.legend()\n",
    "plt.title(\"Mean Annual Sea Levels (1924 to 2019)\")\n",
    "plt.xlabel(\"Year\")\n",
    "plt.ylabel(\"Meters\")\n",
    "plt.grid()\n",
    "\n",
    "\n",
    "#saves image\n",
    "plt.savefig(\"SeaLevelTrends.png\")\n",
    "plt.show()"
   ]
  },
  {
   "cell_type": "code",
   "execution_count": 55,
   "metadata": {},
   "outputs": [
    {
     "data": {
      "image/png": "[encoded data removed]",
      "text/plain": [
       "<Figure size 432x288 with 1 Axes>"
      ]
     },
     "metadata": {
      "needs_background": "light"
     },
     "output_type": "display_data"
    }
   ],
   "source": [
    "#narrowing it to 1969 to 2019\n",
    "\n",
    "#plotting a line graph with a width of 1\n",
    "plt.plot(x_axis, MSL, linewidth = 1, color = \"darkcyan\")\n",
    "plt.plot(x_axis, intercept + slope*x_axis, '--', color = 'deepskyblue', label='Linear Trend')\n",
    "\n",
    "#labeling axis, title, adding grid\n",
    "plt.legend()\n",
    "plt.title(\"Mean Annual Sea Levels (1969 to 2019)\")\n",
    "plt.xlabel(\"Year\")\n",
    "plt.ylabel(\"Meters\")\n",
    "plt.grid()\n",
    "plt.xlim((1969,2019))\n",
    "\n",
    "\n",
    "plt.savefig(\"SeaLevelTrends1969to2019.png\")\n",
    "plt.show()"
   ]
  },
  {
   "cell_type": "code",
   "execution_count": 56,
   "metadata": {},
   "outputs": [
    {
     "name": "stdout",
     "output_type": "stream",
     "text": [
      "Ttest_1sampResult(statistic=-7.873743552721351, pvalue=5.870581125403443e-12)\n"
     ]
    }
   ],
   "source": [
    "# T test\n",
    "true_mu = 0\n",
    "\n",
    "onesample_results = stats.ttest_1samp(MSL, true_mu)\n",
    "\n",
    "print(onesample_results)"
   ]
  },
  {
   "cell_type": "code",
   "execution_count": 60,
   "metadata": {},
   "outputs": [
    {
     "name": "stdout",
     "output_type": "stream",
     "text": [
      "R-squared: 0.321537\n"
     ]
    },
    {
     "data": {
      "image/png": "[encoded data removed]",
      "text/plain": [
       "<Figure size 432x288 with 1 Axes>"
      ]
     },
     "metadata": {
      "needs_background": "light"
     },
     "output_type": "display_data"
    }
   ],
   "source": [
    "#weather data merge\n",
    "\n",
    "weather = pd.read_csv('/Users/monicachao/Desktop/DatascienceBootcamp/Project1/Climate-Project-Repo/Monica/Yearly_temperature_data.csv')\n",
    "\n",
    "\n",
    "x_axis_weather = weather[\"Year\"]\n",
    "mean_temp = weather[\"Mean Temp (C)\"]\n",
    "plt.plot(x_axis_weather, mean_temp, linewidth = 1, color = \"skyblue\", label='Mean Temperature')\n",
    "\n",
    "slopew, interceptw, r_valuew, p_valuew, std_errw = stats.linregress(x_axis_weather, mean_temp)\n",
    "print(\"R-squared: %f\" % r_valuew**2)\n",
    "plt.plot(x_axis_weather, interceptw + slopew*x_axis_weather, '--', color = 'darkblue', label='Linear Trend')\n",
    "plt.title(\"Mean Annual Temperature in Celsius (1969 to 2019)\")\n",
    "\n",
    "plt.legend()\n",
    "plt.xlabel(\"Year\")\n",
    "plt.ylabel(\"Temperature (°C)\")\n",
    "plt.grid()"
   ]
  },
  {
   "cell_type": "code",
   "execution_count": 61,
   "metadata": {},
   "outputs": [
    {
     "name": "stdout",
     "output_type": "stream",
     "text": [
      "Ttest_1sampResult(statistic=164.17725061773749, pvalue=5.484664954644351e-70)\n"
     ]
    }
   ],
   "source": [
    "onesample_resultsw = stats.ttest_1samp(mean_temp, true_mu)\n",
    "\n",
    "print(onesample_resultsw)"
   ]
  },
  {
   "cell_type": "code",
   "execution_count": 78,
   "metadata": {},
   "outputs": [
    {
     "name": "stderr",
     "output_type": "stream",
     "text": [
      "/Users/monicachao/opt/anaconda3/lib/python3.7/site-packages/ipykernel_launcher.py:21: UserWarning: The handle <matplotlib.lines.Line2D object at 0x1a1cb1c550> has a label of '_line1' which cannot be automatically added to the legend.\n",
      "/Users/monicachao/opt/anaconda3/lib/python3.7/site-packages/ipykernel_launcher.py:21: UserWarning: The handle <matplotlib.lines.Line2D object at 0x1a1cb4afd0> has a label of '_line1' which cannot be automatically added to the legend.\n"
     ]
    },
    {
     "data": {
      "image/png": "[encoded data removed]",
      "text/plain": [
       "<Figure size 432x288 with 2 Axes>"
      ]
     },
     "metadata": {},
     "output_type": "display_data"
    }
   ],
   "source": [
    "#plotting the graphs together with the same x-axis (1969 - 2019)\n",
    "\n",
    "fig, ax1 = plt.subplots()\n",
    "plt.xlim((1969,2019))\n",
    "plt.title(\"Mean Sea Level vs. Mean Temperature in San Diego\")\n",
    "\n",
    "ax1.set_xlabel('Year')\n",
    "ax1.set_ylabel('Meters', color=\"cornflowerblue\")\n",
    "ax1.plot(x_axis, MSL, color=\"cornflowerblue\", label = \"Mean Sea Level\")\n",
    "ax1.tick_params(axis='y', labelcolor=\"cornflowerblue\")\n",
    "plt.plot(x_axis, intercept + slope*x_axis, '--', color = 'midnightblue')\n",
    "\n",
    "ax2 = ax1.twinx()  # instantiate a second axes that shares the same x-axis\n",
    "\n",
    "ax2.set_ylabel('Temperature (°C)', color=\"mediumorchid\")  # we already handled the x-label with ax1\n",
    "ax2.plot(x_axis_weather, mean_temp, color=\"mediumorchid\", label = \"Mean Temperature\")\n",
    "ax2.tick_params(axis='y', labelcolor=\"mediumorchid\")\n",
    "plt.plot(x_axis_weather, interceptw + slopew*x_axis_weather, '--', color = 'indigo')\n",
    "\n",
    "lines = ax1.get_lines() + ax2.get_lines()\n",
    "plt.legend(lines, [line.get_label() for line in lines], loc='best')\n",
    "\n",
    "fig.tight_layout()  # otherwise the right y-label is slightly clipped\n",
    "plt.grid()\n",
    "\n",
    "\n",
    "plt.savefig(\"MSLvsTemp.png\")\n",
    "plt.show()"
   ]
  },
  {
   "cell_type": "code",
   "execution_count": 63,
   "metadata": {},
   "outputs": [
    {
     "data": {
      "text/plain": [
       "Ttest_indResult(statistic=-223.68105942619874, pvalue=6.141113628698635e-185)"
      ]
     },
     "execution_count": 63,
     "metadata": {},
     "output_type": "execute_result"
    }
   ],
   "source": [
    "#individual ttest for both MSL and mean temperature\n",
    "stats.ttest_ind(MSL, mean_temp)"
   ]
  },
  {
   "cell_type": "code",
   "execution_count": 64,
   "metadata": {},
   "outputs": [],
   "source": [
    "#merging the two csvs together for correlation test\n",
    "merged = finalcsv.merge(weather)"
   ]
  },
  {
   "cell_type": "code",
   "execution_count": 65,
   "metadata": {
    "scrolled": true
   },
   "outputs": [],
   "source": [
    "#taking the columns to be compared\n",
    "correlation = merged[['MSL', 'Mean Temp (C)']]"
   ]
  },
  {
   "cell_type": "code",
   "execution_count": 66,
   "metadata": {},
   "outputs": [
    {
     "name": "stdout",
     "output_type": "stream",
     "text": [
      "                    MSL  Mean Temp (C)\n",
      "MSL            1.000000       0.680215\n",
      "Mean Temp (C)  0.680215       1.000000\n"
     ]
    }
   ],
   "source": [
    "#pearson correlation coefficient\n",
    "table = correlation.corr()\n",
    "print(table)\n",
    "table.to_csv(\"table.csv\", encoding=\"utf-8\", index=True)\n",
    "\n",
    "#saving the table as a csv"
   ]
  },
  {
   "cell_type": "code",
   "execution_count": 67,
   "metadata": {},
   "outputs": [],
   "source": [
    "#null - there is no relationship between sea level and temperature \n",
    "#alt - there is a relationship between sea level and temperature\n",
    "#reject null hypothesis; pvalue = significant, correlation = strong correlation"
   ]
  },
  {
   "cell_type": "code",
   "execution_count": null,
   "metadata": {},
   "outputs": [],
   "source": []
  }
 ],
 "metadata": {
  "kernelspec": {
   "display_name": "Python 3",
   "language": "python",
   "name": "python3"
  },
  "language_info": {
   "codemirror_mode": {
    "name": "ipython",
    "version": 3
   },
   "file_extension": ".py",
   "mimetype": "text/x-python",
   "name": "python",
   "nbconvert_exporter": "python",
   "pygments_lexer": "ipython3",
   "version": "3.7.4"
  }
 },
 "nbformat": 4,
 "nbformat_minor": 2
}
